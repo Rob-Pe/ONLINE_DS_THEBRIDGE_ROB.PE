{
 "cells": [
  {
   "cell_type": "markdown",
   "id": "0dc7f9b6",
   "metadata": {},
   "source": [
    "# PRACTICA OBLIGATORIA: **Markdown**\n"
   ]
  },
  {
   "cell_type": "markdown",
   "id": "b227aa31",
   "metadata": {},
   "source": [
    "## Ejercicio 1"
   ]
  },
  {
   "cell_type": "markdown",
   "id": "e54f52dc",
   "metadata": {},
   "source": [
    "#### Aptitudes en Data Science\n",
    "> ##### Lo más importante\n",
    "> - Matemáticas\n",
    "\n",
    "> - Python\n",
    "\n",
    "> - SQL"
   ]
  },
  {
   "cell_type": "markdown",
   "id": "13acdee5",
   "metadata": {
    "vscode": {
     "languageId": "plaintext"
    }
   },
   "source": [
    "![](./img/python.png)"
   ]
  },
  {
   "cell_type": "markdown",
   "id": "510dd9ce",
   "metadata": {
    "vscode": {
     "languageId": "plaintext"
    }
   },
   "source": [
    "> Otro tema muy importante es la ***Estadística***  \n",
    "\n",
    "> Si tienes dudas puedes escribirnos a: **ta_ds_online@thebridgeschool.es**\n",
    "\n",
    "> Y en esta web se aprende mucho sobre *Machine Learning*: [Kaggle](https://www.kaggle.com/)"
   ]
  },
  {
   "cell_type": "markdown",
   "id": "df7fd709",
   "metadata": {
    "vscode": {
     "languageId": "plaintext"
    }
   },
   "source": [
    "## Ejercicio 2 "
   ]
  },
  {
   "cell_type": "markdown",
   "id": "2bbd3c1a",
   "metadata": {
    "vscode": {
     "languageId": "plaintext"
    }
   },
   "source": [
    "| Fundamentals | Data Analysis | Machine Learning | Data & Business |\n",
    "|--------------|---------------|------------------|-----------------|\n",
    "| Jupyyer      | SQL           | Supervisado      | API             |\n",
    "| GitHub       | Estadística   | No supervisado   | Despliegue      |\n",
    "| Python       | EDA           | Deep Learning    | Cloud Computing |"
   ]
  },
  {
   "cell_type": "markdown",
   "id": "57d1514f",
   "metadata": {
    "vscode": {
     "languageId": "plaintext"
    }
   },
   "source": [
    "$$\n",
    "\\sqrt{3x - 1} + (1 + x)^2\n",
    "$$"
   ]
  }
 ],
 "metadata": {
  "language_info": {
   "name": "python"
  }
 },
 "nbformat": 4,
 "nbformat_minor": 5
}
